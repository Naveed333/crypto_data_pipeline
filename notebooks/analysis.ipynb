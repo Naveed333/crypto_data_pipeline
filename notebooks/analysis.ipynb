{
 "cells": [
  {
   "cell_type": "code",
   "execution_count": null,
   "metadata": {
    "vscode": {
     "languageId": "plaintext"
    }
   },
   "outputs": [],
   "source": [
    "import pandas as pd\n",
    "import matplotlib.pyplot as plt\n",
    "\n",
    "# Load Data\n",
    "reddit_df = pd.read_csv(\"../datasets/raw/reddit_data.csv\")\n",
    "trends_df = pd.read_csv(\"../datasets/raw/google_trends.csv\")\n",
    "\n",
    "# Summary Statistics\n",
    "print(reddit_df.describe())\n",
    "\n",
    "# Visualization: Top Reddit Posts by Upvotes\n",
    "reddit_df.nlargest(10, \"Upvotes\").plot(kind=\"bar\", x=\"Title\", y=\"Upvotes\", figsize=(10,5))\n",
    "plt.show()\n"
   ]
  },
  {
   "cell_type": "code",
   "execution_count": null,
   "metadata": {
    "vscode": {
     "languageId": "plaintext"
    }
   },
   "outputs": [],
   "source": []
  }
 ],
 "metadata": {
  "language_info": {
   "name": "python"
  }
 },
 "nbformat": 4,
 "nbformat_minor": 2
}
